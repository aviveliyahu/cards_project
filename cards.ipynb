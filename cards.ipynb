{
 "cells": [
  {
   "cell_type": "markdown",
   "metadata": {},
   "source": [
    "<h1><u>Card wars project</u></h1>\n",
    "<h3>In this project i've tested my class creation skills, combining different classes into use together and game-logic that need to be translated into a code.</h3>"
   ]
  },
  {
   "cell_type": "markdown",
   "metadata": {},
   "source": [
    "First, lets have all the information we need.<br>\n",
    "Suits and ranks are needed in order to create all the combinations that are possible in a cards deck.<br>\n",
    "Values is a dictionary that needed in order to be able to comapre cards (since we cant compare \"size\" by strings) - it is structured in a key:value where key is the card's name and value is the representing number (\"strength\") of the card."
   ]
  },
  {
   "cell_type": "code",
   "execution_count": 1,
   "metadata": {},
   "outputs": [],
   "source": [
    "suits = ('Hearts', 'Diamonds', 'Spades', 'Clubs')\n",
    "\n",
    "ranks = ('Two', 'Three', 'Four', 'Five', 'Six', 'Seven', 'Eight', 'Nine', 'Ten', 'Jack', 'Queen', 'King', 'Ace')\n",
    "\n",
    "values = {'Two':2, 'Three':3, 'Four':4, 'Five':5, 'Six':6, 'Seven':7, 'Eight':8, \n",
    "            'Nine':9, 'Ten':10, 'Jack':11, 'Queen':12, 'King':13, 'Ace':14}"
   ]
  },
  {
   "cell_type": "markdown",
   "metadata": {},
   "source": [
    "Lets create the card class, this class will describe the card object by its suit, rank and value (value is used for the hand comparion)"
   ]
  },
  {
   "cell_type": "code",
   "execution_count": 2,
   "metadata": {},
   "outputs": [],
   "source": [
    "class Card():\n",
    "    def __init__(self,suit,rank):\n",
    "        self.suit = suit\n",
    "        self.rank = rank\n",
    "        self.value = values[rank]\n",
    "        \n",
    "    def __str__(self):\n",
    "        return self.rank +\" of \" +self.suit"
   ]
  },
  {
   "cell_type": "code",
   "execution_count": 3,
   "metadata": {},
   "outputs": [],
   "source": [
    "two_hearts = Card(\"Hearts\",\"Two\")"
   ]
  },
  {
   "cell_type": "markdown",
   "metadata": {},
   "source": [
    "making sure the class is properly working.."
   ]
  },
  {
   "cell_type": "code",
   "execution_count": 4,
   "metadata": {},
   "outputs": [
    {
     "name": "stdout",
     "output_type": "stream",
     "text": [
      "Two of Hearts\n"
     ]
    }
   ],
   "source": [
    "print(two_hearts)"
   ]
  },
  {
   "cell_type": "code",
   "execution_count": 5,
   "metadata": {},
   "outputs": [
    {
     "data": {
      "text/plain": [
       "'Hearts'"
      ]
     },
     "execution_count": 5,
     "metadata": {},
     "output_type": "execute_result"
    }
   ],
   "source": [
    "two_hearts.suit"
   ]
  },
  {
   "cell_type": "code",
   "execution_count": 6,
   "metadata": {},
   "outputs": [
    {
     "data": {
      "text/plain": [
       "'Two'"
      ]
     },
     "execution_count": 6,
     "metadata": {},
     "output_type": "execute_result"
    }
   ],
   "source": [
    "two_hearts.rank"
   ]
  },
  {
   "cell_type": "code",
   "execution_count": 7,
   "metadata": {},
   "outputs": [
    {
     "data": {
      "text/plain": [
       "2"
      ]
     },
     "execution_count": 7,
     "metadata": {},
     "output_type": "execute_result"
    }
   ],
   "source": [
    "two_hearts.value"
   ]
  },
  {
   "cell_type": "markdown",
   "metadata": {},
   "source": [
    "Ok so class seems to be working alright, lets compare cards to see if value indeed working properly"
   ]
  },
  {
   "cell_type": "code",
   "execution_count": 8,
   "metadata": {},
   "outputs": [],
   "source": [
    "three_diamonds = Card(\"Diamonds\",\"Three\")"
   ]
  },
  {
   "cell_type": "code",
   "execution_count": 9,
   "metadata": {},
   "outputs": [
    {
     "data": {
      "text/plain": [
       "False"
      ]
     },
     "execution_count": 9,
     "metadata": {},
     "output_type": "execute_result"
    }
   ],
   "source": [
    "two_hearts.value>three_diamonds.value"
   ]
  },
  {
   "cell_type": "code",
   "execution_count": 10,
   "metadata": {},
   "outputs": [
    {
     "data": {
      "text/plain": [
       "True"
      ]
     },
     "execution_count": 10,
     "metadata": {},
     "output_type": "execute_result"
    }
   ],
   "source": [
    "two_hearts.value<three_diamonds.value"
   ]
  },
  {
   "cell_type": "code",
   "execution_count": 11,
   "metadata": {},
   "outputs": [
    {
     "data": {
      "text/plain": [
       "False"
      ]
     },
     "execution_count": 11,
     "metadata": {},
     "output_type": "execute_result"
    }
   ],
   "source": [
    "two_hearts.value==three_diamonds.value"
   ]
  },
  {
   "cell_type": "markdown",
   "metadata": {},
   "source": [
    "Great, now lets create a deck class! the deck class will contain the whole cards (52 of them, with all combination possible)."
   ]
  },
  {
   "cell_type": "code",
   "execution_count": 12,
   "metadata": {},
   "outputs": [],
   "source": [
    "class Deck():\n",
    "    def __init__(self):\n",
    "        self.card_deck = []\n",
    "\n",
    "        for suit in suits:\n",
    "            for rank in ranks:\n",
    "                self.card_deck.append(Card(suit,rank))"
   ]
  },
  {
   "cell_type": "code",
   "execution_count": 13,
   "metadata": {},
   "outputs": [],
   "source": [
    "deck1 = Deck()"
   ]
  },
  {
   "cell_type": "code",
   "execution_count": 14,
   "metadata": {},
   "outputs": [
    {
     "data": {
      "text/plain": [
       "[<__main__.Card at 0x244ff79a960>,\n",
       " <__main__.Card at 0x244ff79a450>,\n",
       " <__main__.Card at 0x244ff79ad20>,\n",
       " <__main__.Card at 0x244ff79ab10>,\n",
       " <__main__.Card at 0x244ff79abd0>,\n",
       " <__main__.Card at 0x244ff79aa50>,\n",
       " <__main__.Card at 0x244ff79a570>,\n",
       " <__main__.Card at 0x244ff79b470>,\n",
       " <__main__.Card at 0x244ff79b4a0>,\n",
       " <__main__.Card at 0x244ff79b4d0>,\n",
       " <__main__.Card at 0x244ff79b500>,\n",
       " <__main__.Card at 0x244ff79b530>,\n",
       " <__main__.Card at 0x244ff79b560>,\n",
       " <__main__.Card at 0x244ff79b590>,\n",
       " <__main__.Card at 0x244ff79b5c0>,\n",
       " <__main__.Card at 0x244ff79a5a0>,\n",
       " <__main__.Card at 0x244ff79b620>,\n",
       " <__main__.Card at 0x244ff79b5f0>,\n",
       " <__main__.Card at 0x244ff79b110>,\n",
       " <__main__.Card at 0x244ff79a390>,\n",
       " <__main__.Card at 0x244ff79b680>,\n",
       " <__main__.Card at 0x244ff79b740>,\n",
       " <__main__.Card at 0x244ff79b770>,\n",
       " <__main__.Card at 0x244ff79b7d0>,\n",
       " <__main__.Card at 0x244ff79b830>,\n",
       " <__main__.Card at 0x244ff79b890>,\n",
       " <__main__.Card at 0x244ff79b8f0>,\n",
       " <__main__.Card at 0x244ff79b950>,\n",
       " <__main__.Card at 0x244ff79b9b0>,\n",
       " <__main__.Card at 0x244ff79ba10>,\n",
       " <__main__.Card at 0x244ff79ba70>,\n",
       " <__main__.Card at 0x244ff79bad0>,\n",
       " <__main__.Card at 0x244ff79bb30>,\n",
       " <__main__.Card at 0x244ff79bb90>,\n",
       " <__main__.Card at 0x244ff79bbf0>,\n",
       " <__main__.Card at 0x244ff79bc50>,\n",
       " <__main__.Card at 0x244ff79bcb0>,\n",
       " <__main__.Card at 0x244ff79bd10>,\n",
       " <__main__.Card at 0x244ff79bd70>,\n",
       " <__main__.Card at 0x244ff79bdd0>,\n",
       " <__main__.Card at 0x244ff79be30>,\n",
       " <__main__.Card at 0x244ff79be90>,\n",
       " <__main__.Card at 0x244ff79bef0>,\n",
       " <__main__.Card at 0x244ff79bf50>,\n",
       " <__main__.Card at 0x244ff79bfb0>,\n",
       " <__main__.Card at 0x244ff7d4050>,\n",
       " <__main__.Card at 0x244ff7d40b0>,\n",
       " <__main__.Card at 0x244ff7d4110>,\n",
       " <__main__.Card at 0x244ff7d4170>,\n",
       " <__main__.Card at 0x244ff7d41d0>,\n",
       " <__main__.Card at 0x244ff7d4230>,\n",
       " <__main__.Card at 0x244ff7d4290>]"
      ]
     },
     "execution_count": 14,
     "metadata": {},
     "output_type": "execute_result"
    }
   ],
   "source": [
    "deck1.card_deck"
   ]
  },
  {
   "cell_type": "markdown",
   "metadata": {},
   "source": [
    "Lets make sure it has all the cards inside."
   ]
  },
  {
   "cell_type": "code",
   "execution_count": 15,
   "metadata": {},
   "outputs": [
    {
     "data": {
      "text/plain": [
       "<__main__.Card at 0x244ff79a960>"
      ]
     },
     "execution_count": 15,
     "metadata": {},
     "output_type": "execute_result"
    }
   ],
   "source": [
    "deck1.card_deck[0]"
   ]
  },
  {
   "cell_type": "code",
   "execution_count": 16,
   "metadata": {},
   "outputs": [
    {
     "name": "stdout",
     "output_type": "stream",
     "text": [
      "Two of Hearts\n"
     ]
    }
   ],
   "source": [
    "# first card\n",
    "print(deck1.card_deck[0])"
   ]
  },
  {
   "cell_type": "code",
   "execution_count": 17,
   "metadata": {},
   "outputs": [
    {
     "name": "stdout",
     "output_type": "stream",
     "text": [
      "Ace of Clubs\n"
     ]
    }
   ],
   "source": [
    "# last card\n",
    "print(deck1.card_deck[51])"
   ]
  },
  {
   "cell_type": "code",
   "execution_count": 18,
   "metadata": {},
   "outputs": [
    {
     "name": "stdout",
     "output_type": "stream",
     "text": [
      "Two of Hearts\n",
      "Three of Hearts\n",
      "Four of Hearts\n",
      "Five of Hearts\n",
      "Six of Hearts\n",
      "Seven of Hearts\n",
      "Eight of Hearts\n",
      "Nine of Hearts\n",
      "Ten of Hearts\n",
      "Jack of Hearts\n",
      "Queen of Hearts\n",
      "King of Hearts\n",
      "Ace of Hearts\n",
      "Two of Diamonds\n",
      "Three of Diamonds\n",
      "Four of Diamonds\n",
      "Five of Diamonds\n",
      "Six of Diamonds\n",
      "Seven of Diamonds\n",
      "Eight of Diamonds\n",
      "Nine of Diamonds\n",
      "Ten of Diamonds\n",
      "Jack of Diamonds\n",
      "Queen of Diamonds\n",
      "King of Diamonds\n",
      "Ace of Diamonds\n",
      "Two of Spades\n",
      "Three of Spades\n",
      "Four of Spades\n",
      "Five of Spades\n",
      "Six of Spades\n",
      "Seven of Spades\n",
      "Eight of Spades\n",
      "Nine of Spades\n",
      "Ten of Spades\n",
      "Jack of Spades\n",
      "Queen of Spades\n",
      "King of Spades\n",
      "Ace of Spades\n",
      "Two of Clubs\n",
      "Three of Clubs\n",
      "Four of Clubs\n",
      "Five of Clubs\n",
      "Six of Clubs\n",
      "Seven of Clubs\n",
      "Eight of Clubs\n",
      "Nine of Clubs\n",
      "Ten of Clubs\n",
      "Jack of Clubs\n",
      "Queen of Clubs\n",
      "King of Clubs\n",
      "Ace of Clubs\n"
     ]
    }
   ],
   "source": [
    "# run through all cards\n",
    "for card in deck1.card_deck:\n",
    "    print(card)"
   ]
  },
  {
   "cell_type": "markdown",
   "metadata": {},
   "source": [
    "All combination possible is inside the deck!<br>\n",
    "Now, lets add some more methods to the class - such as cards shuffle which is a basic in cards game."
   ]
  },
  {
   "cell_type": "code",
   "execution_count": 19,
   "metadata": {},
   "outputs": [],
   "source": [
    "import random"
   ]
  },
  {
   "cell_type": "code",
   "execution_count": 20,
   "metadata": {},
   "outputs": [],
   "source": [
    "class Deck():\n",
    "    def __init__(self):\n",
    "        self.card_deck = []\n",
    "\n",
    "        for suit in suits:\n",
    "            for rank in ranks:\n",
    "                self.card_deck.append(Card(suit,rank))\n",
    "    \n",
    "    def shuffle(self):\n",
    "        random.shuffle(self.card_deck)\n",
    "        print(\"deck shuffled\")"
   ]
  },
  {
   "cell_type": "code",
   "execution_count": 21,
   "metadata": {},
   "outputs": [],
   "source": [
    "deck2 = Deck()"
   ]
  },
  {
   "cell_type": "code",
   "execution_count": 22,
   "metadata": {},
   "outputs": [
    {
     "name": "stdout",
     "output_type": "stream",
     "text": [
      "Two of Hearts\n"
     ]
    }
   ],
   "source": [
    "# first card before shuffle\n",
    "print(deck2.card_deck[0])"
   ]
  },
  {
   "cell_type": "code",
   "execution_count": 23,
   "metadata": {},
   "outputs": [
    {
     "name": "stdout",
     "output_type": "stream",
     "text": [
      "deck shuffled\n",
      "King of Diamonds\n"
     ]
    }
   ],
   "source": [
    "# first card after shuffle\n",
    "deck2.shuffle()\n",
    "print(deck2.card_deck[0])"
   ]
  },
  {
   "cell_type": "markdown",
   "metadata": {},
   "source": [
    "Amazing, now lets create remove card (or cards, in case of a tie in the game) method in this class as well."
   ]
  },
  {
   "cell_type": "code",
   "execution_count": 24,
   "metadata": {},
   "outputs": [],
   "source": [
    "class Deck():\n",
    "    def __init__(self):\n",
    "        self.card_deck = []\n",
    "\n",
    "        for suit in suits:\n",
    "            for rank in ranks:\n",
    "                self.card_deck.append(Card(suit,rank))\n",
    "    \n",
    "    def shuffle(self):\n",
    "        random.shuffle(self.card_deck)\n",
    "        print(\"deck shuffled\")\n",
    "\n",
    "    def remove_card(self):\n",
    "        #print(\"card removed from deck\")\n",
    "        return self.card_deck.pop()"
   ]
  },
  {
   "cell_type": "code",
   "execution_count": 25,
   "metadata": {},
   "outputs": [],
   "source": [
    "deck3 = Deck()"
   ]
  },
  {
   "cell_type": "code",
   "execution_count": 26,
   "metadata": {},
   "outputs": [
    {
     "name": "stdout",
     "output_type": "stream",
     "text": [
      "deck shuffled\n",
      "King of Spades\n"
     ]
    }
   ],
   "source": [
    "deck3.shuffle()\n",
    "print(deck3.remove_card())"
   ]
  },
  {
   "cell_type": "markdown",
   "metadata": {},
   "source": [
    "So we got a card, lets make sure the deck actually has this card removed"
   ]
  },
  {
   "cell_type": "code",
   "execution_count": 27,
   "metadata": {},
   "outputs": [
    {
     "data": {
      "text/plain": [
       "51"
      ]
     },
     "execution_count": 27,
     "metadata": {},
     "output_type": "execute_result"
    }
   ],
   "source": [
    "len(deck3.card_deck)"
   ]
  },
  {
   "cell_type": "markdown",
   "metadata": {},
   "source": [
    "Great! now lets move forward and create a player.<br>\n",
    "Player will be able to hold cards, add or remove card(s) from his hand."
   ]
  },
  {
   "cell_type": "code",
   "execution_count": 28,
   "metadata": {},
   "outputs": [],
   "source": [
    "class Player():\n",
    "    def __init__(self,name):\n",
    "        self.name = name\n",
    "        self.cards = []\n",
    "    \n",
    "    def add_cards(self,cards):\n",
    "        # if user add multiple cards\n",
    "        if type(cards) == type([]):\n",
    "            self.cards.extend(cards)\n",
    "        # if user added one card only\n",
    "        else:\n",
    "            self.cards.append(cards)\n",
    "\n",
    "        #print(f\"card added to {self.name}s deck\")\n",
    "    \n",
    "    def remove_card(self):\n",
    "        return self.cards.pop(0)\n",
    "        #print(f\"card remove from {self.name}s deck\")\n",
    "\n",
    "    def __str__(self):\n",
    "        return f\"Player {self.name} has {len(self.cards)} cards\""
   ]
  },
  {
   "cell_type": "code",
   "execution_count": 29,
   "metadata": {},
   "outputs": [],
   "source": [
    "player1 = Player(\"Aviv\")"
   ]
  },
  {
   "cell_type": "code",
   "execution_count": 30,
   "metadata": {},
   "outputs": [
    {
     "name": "stdout",
     "output_type": "stream",
     "text": [
      "Player Aviv has 0 cards\n"
     ]
    }
   ],
   "source": [
    "print(player1)"
   ]
  },
  {
   "cell_type": "markdown",
   "metadata": {},
   "source": [
    "Lets add a card to the user to make sure the class works properly, we'll use the previous deck (that was shuffled) - deck3"
   ]
  },
  {
   "cell_type": "code",
   "execution_count": 31,
   "metadata": {},
   "outputs": [],
   "source": [
    "card = deck3.remove_card()"
   ]
  },
  {
   "cell_type": "code",
   "execution_count": 32,
   "metadata": {},
   "outputs": [
    {
     "name": "stdout",
     "output_type": "stream",
     "text": [
      "Eight of Spades\n"
     ]
    }
   ],
   "source": [
    "print(card)"
   ]
  },
  {
   "cell_type": "code",
   "execution_count": 33,
   "metadata": {},
   "outputs": [],
   "source": [
    "player1.add_cards(card)"
   ]
  },
  {
   "cell_type": "code",
   "execution_count": 34,
   "metadata": {},
   "outputs": [
    {
     "name": "stdout",
     "output_type": "stream",
     "text": [
      "Player Aviv has 1 cards\n"
     ]
    }
   ],
   "source": [
    "print(player1)"
   ]
  },
  {
   "cell_type": "code",
   "execution_count": 35,
   "metadata": {},
   "outputs": [
    {
     "name": "stdout",
     "output_type": "stream",
     "text": [
      "Eight of Spades\n"
     ]
    }
   ],
   "source": [
    "print(player1.cards[0])"
   ]
  },
  {
   "cell_type": "markdown",
   "metadata": {},
   "source": [
    "That seems to work, the player has the card added while the deck popped this card.<br>\n",
    "Lets try to add multiple cards"
   ]
  },
  {
   "cell_type": "code",
   "execution_count": 36,
   "metadata": {},
   "outputs": [],
   "source": [
    "player1.add_cards([card,card,card])"
   ]
  },
  {
   "cell_type": "code",
   "execution_count": 37,
   "metadata": {},
   "outputs": [
    {
     "name": "stdout",
     "output_type": "stream",
     "text": [
      "Player Aviv has 4 cards\n"
     ]
    }
   ],
   "source": [
    "print(player1)"
   ]
  },
  {
   "cell_type": "markdown",
   "metadata": {},
   "source": [
    "Lets check the remove card method as well"
   ]
  },
  {
   "cell_type": "code",
   "execution_count": 38,
   "metadata": {},
   "outputs": [
    {
     "data": {
      "text/plain": [
       "<__main__.Card at 0x244ff7d6c60>"
      ]
     },
     "execution_count": 38,
     "metadata": {},
     "output_type": "execute_result"
    }
   ],
   "source": [
    "player1.remove_card()"
   ]
  },
  {
   "cell_type": "code",
   "execution_count": 39,
   "metadata": {},
   "outputs": [
    {
     "name": "stdout",
     "output_type": "stream",
     "text": [
      "Player Aviv has 3 cards\n"
     ]
    }
   ],
   "source": [
    "print(player1)"
   ]
  },
  {
   "cell_type": "markdown",
   "metadata": {},
   "source": [
    "So its working. we now have cards,deck and player classes.<br>\n",
    "Lets move to creating the game logic."
   ]
  },
  {
   "cell_type": "code",
   "execution_count": 44,
   "metadata": {},
   "outputs": [
    {
     "name": "stdout",
     "output_type": "stream",
     "text": [
      "deck shuffled\n"
     ]
    }
   ],
   "source": [
    "# Game setup\n",
    "\n",
    "# create new players\n",
    "player1 = Player(\"one\")\n",
    "player2 = Player(\"two\")\n",
    "\n",
    "# create game deck\n",
    "deck = Deck()\n",
    "deck.shuffle()\n",
    "\n",
    "# split cards for the players\n",
    "for i in range(int(len(deck.card_deck)/2)):\n",
    "    player1.add_cards(deck.remove_card())\n",
    "    player2.add_cards(deck.remove_card())"
   ]
  },
  {
   "cell_type": "code",
   "execution_count": 45,
   "metadata": {},
   "outputs": [
    {
     "name": "stdout",
     "output_type": "stream",
     "text": [
      "Seven of Diamonds\n",
      "Nine of Diamonds\n"
     ]
    }
   ],
   "source": [
    "# make sure its randomly split\n",
    "print(player1.cards[0])\n",
    "print(player2.cards[0])"
   ]
  },
  {
   "cell_type": "code",
   "execution_count": 46,
   "metadata": {},
   "outputs": [
    {
     "name": "stdout",
     "output_type": "stream",
     "text": [
      "Round 1\n",
      "Round 2\n",
      "Round 3\n",
      "Round 4\n",
      "Round 5\n",
      "Round 6\n",
      "Round 7\n",
      "Round 8\n",
      "Round 9\n",
      "Round 10\n",
      "Round 11\n",
      "Round 12\n",
      "Round 13\n",
      "Round 14\n",
      "Round 15\n",
      "Round 16\n",
      "Round 17\n",
      "Round 18\n",
      "Round 19\n",
      "Round 20\n",
      "Round 21\n",
      "Round 22\n",
      "Round 23\n",
      "Round 24\n",
      "Round 25\n",
      "Round 26\n",
      "Round 27\n",
      "Round 28\n",
      "Round 29\n",
      "Round 30\n",
      "Round 31\n",
      "Round 32\n",
      "Round 33\n",
      "Round 34\n",
      "Round 35\n",
      "Round 36\n",
      "Round 37\n",
      "Round 38\n",
      "Round 39\n",
      "Round 40\n",
      "Round 41\n",
      "Round 42\n",
      "Round 43\n",
      "Round 44\n",
      "Round 45\n",
      "Round 46\n",
      "Round 47\n",
      "Round 48\n",
      "Round 49\n",
      "Round 50\n",
      "Round 51\n",
      "Round 52\n",
      "Round 53\n",
      "Draw!\n",
      "Round 54\n",
      "Round 55\n",
      "Round 56\n",
      "Round 57\n",
      "Round 58\n",
      "Round 59\n",
      "Round 60\n",
      "Round 61\n",
      "Round 62\n",
      "Round 63\n",
      "Round 64\n",
      "Round 65\n",
      "Round 66\n",
      "Round 67\n",
      "Round 68\n",
      "Round 69\n",
      "Round 70\n",
      "Round 71\n",
      "Round 72\n",
      "Round 73\n",
      "Round 74\n",
      "Draw!\n",
      "Round 75\n",
      "Player 2 has no cards left, player 1 wins\n"
     ]
    }
   ],
   "source": [
    "game_on = True\n",
    "round_number = 0\n",
    "\n",
    "while game_on:\n",
    "    round_number += 1\n",
    "    print(f\"Round {round_number}\")\n",
    "\n",
    "    if len(player1.cards) == 0:\n",
    "        print(\"Player 1 has no cards left, player 2 wins\")\n",
    "        game_on = False\n",
    "        break\n",
    "    if len(player2.cards) == 0:\n",
    "        print(\"Player 2 has no cards left, player 1 wins\")\n",
    "        game_on = False\n",
    "        break\n",
    "\n",
    "    # card hand that is currently played\n",
    "    player1_hand = []\n",
    "    player1_hand.append(player1.remove_card())\n",
    "\n",
    "    player2_hand = []\n",
    "    player2_hand.append(player2.remove_card())\n",
    "\n",
    "    # hand comparison\n",
    "    compare_hand = True\n",
    "    while compare_hand:\n",
    "        # if player1's card is greater than player2's card\n",
    "        if(player1_hand[-1].value > player2_hand[-1].value):\n",
    "            player1.add_cards(player1_hand)\n",
    "            player1.add_cards(player2_hand)\n",
    "            compare_hand = False\n",
    "            break\n",
    "\n",
    "        # if player2's card is greater than player1's card\n",
    "        elif(player1_hand[-1].value < player2_hand[-1].value):\n",
    "            player2.add_cards(player2_hand)\n",
    "            player2.add_cards(player1_hand)\n",
    "            compare_hand = False\n",
    "            break\n",
    "\n",
    "        # if its a draw\n",
    "        else:\n",
    "            print(\"Draw!\")\n",
    "            if(len(player1.cards)<5):\n",
    "                print(\"Player 1 doesnt have enough cards.\")\n",
    "                print(\"Player 2 wins.\")\n",
    "                game_on = False\n",
    "                break\n",
    "            elif(len(player2.cards)<5):\n",
    "                print(\"Player 2 doesnt have enough cards.\")\n",
    "                print(\"Player 1 wins.\")\n",
    "                game_on = False\n",
    "                break\n",
    "            else:\n",
    "                for i in range(5):\n",
    "                    player1_hand.append(player1.remove_card())\n",
    "                    player2_hand.append(player2.remove_card())"
   ]
  },
  {
   "cell_type": "markdown",
   "metadata": {},
   "source": [
    "Seems ok. Lets make sure that player 2 indeed has not enough cards (and in this case he lost by not having cards anymore)"
   ]
  },
  {
   "cell_type": "code",
   "execution_count": 47,
   "metadata": {},
   "outputs": [
    {
     "name": "stdout",
     "output_type": "stream",
     "text": [
      "Player two has 0 cards\n"
     ]
    }
   ],
   "source": [
    "print(player2)"
   ]
  },
  {
   "cell_type": "markdown",
   "metadata": {},
   "source": [
    "Lets also check if player 1 has all the cards"
   ]
  },
  {
   "cell_type": "code",
   "execution_count": 48,
   "metadata": {},
   "outputs": [
    {
     "name": "stdout",
     "output_type": "stream",
     "text": [
      "Player one has 52 cards\n"
     ]
    }
   ],
   "source": [
    "print(player1)"
   ]
  },
  {
   "cell_type": "markdown",
   "metadata": {},
   "source": [
    "<h3>\n",
    "Great! all done for now.<br>\n",
    "Thank you for following this little project, more soon to come ;)\n",
    "</h3>"
   ]
  },
  {
   "cell_type": "markdown",
   "metadata": {},
   "source": []
  }
 ],
 "metadata": {
  "kernelspec": {
   "display_name": "Python 3",
   "language": "python",
   "name": "python3"
  },
  "language_info": {
   "codemirror_mode": {
    "name": "ipython",
    "version": 3
   },
   "file_extension": ".py",
   "mimetype": "text/x-python",
   "name": "python",
   "nbconvert_exporter": "python",
   "pygments_lexer": "ipython3",
   "version": "3.12.3"
  }
 },
 "nbformat": 4,
 "nbformat_minor": 2
}
